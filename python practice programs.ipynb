{
 "cells": [
  {
   "cell_type": "code",
   "execution_count": 1,
   "id": "918984b8",
   "metadata": {},
   "outputs": [
    {
     "name": "stdout",
     "output_type": "stream",
     "text": [
      "enter the number:16\n",
      "4.0\n"
     ]
    }
   ],
   "source": [
    "#squareroot program in python\n",
    "num=int(input(\"enter the number:\"))\n",
    "square_root=(num**0.5)\n",
    "print(square_root)"
   ]
  },
  {
   "cell_type": "code",
   "execution_count": 3,
   "id": "c97a9d3f",
   "metadata": {},
   "outputs": [
    {
     "name": "stdout",
     "output_type": "stream",
     "text": [
      "enter the height:6\n",
      "enter the base:3\n",
      "9.0\n"
     ]
    }
   ],
   "source": [
    "#area of triangle in python program\n",
    "height=float(input(\"enter the height:\"))\n",
    "base=float(input(\"enter the base:\"))\n",
    "area_of_triangle=(0.5)*height*base\n",
    "print(area_of_triangle)"
   ]
  },
  {
   "cell_type": "code",
   "execution_count": 5,
   "id": "78d407a6",
   "metadata": {},
   "outputs": [
    {
     "name": "stdout",
     "output_type": "stream",
     "text": [
      "the value of u is 3\n",
      "the value of v is 12\n"
     ]
    }
   ],
   "source": [
    "#swapping of two numbwer in python\n",
    "u=3\n",
    "v=12\n",
    "u,v=v,u\n",
    "print(\"the value of u is\",v)\n",
    "print(\"the value of v is\",u)"
   ]
  },
  {
   "cell_type": "code",
   "execution_count": 12,
   "id": "0c85d044",
   "metadata": {},
   "outputs": [
    {
     "name": "stdout",
     "output_type": "stream",
     "text": [
      "enter the kms:8\n",
      "8.0 kms  will be 4.970968 miles\n"
     ]
    }
   ],
   "source": [
    "# convert the kilometers into miles in python\n",
    "km=float(input(\"enter the kms:\"))\n",
    "miles=(0.621371)*km\n",
    "print(km,\"kms  will be\",miles,\"miles\")"
   ]
  },
  {
   "cell_type": "code",
   "execution_count": 16,
   "id": "22621d93",
   "metadata": {},
   "outputs": [
    {
     "name": "stdout",
     "output_type": "stream",
     "text": [
      "enter the number:4\n",
      "4  is positive number\n"
     ]
    }
   ],
   "source": [
    "#python program number is positive,negative or zero\n",
    "num=int(input(\"enter the number:\"))\n",
    "if num >0:\n",
    "    print(num,\" is positive number\")\n",
    "elif num ==0:\n",
    "    print(\"zero\")\n",
    "else:\n",
    "    print(num,\" is negetive number\")"
   ]
  },
  {
   "cell_type": "code",
   "execution_count": 19,
   "id": "0a31e0c6",
   "metadata": {},
   "outputs": [
    {
     "name": "stdout",
     "output_type": "stream",
     "text": [
      "enter the number:7\n",
      "odd  number\n"
     ]
    }
   ],
   "source": [
    "# even or odd in python program\n",
    "num=int(input(\"enter the number:\"))\n",
    "if num %2==0:\n",
    "    print(\"even number\")\n",
    "else:\n",
    "    print(\"odd  number\")"
   ]
  },
  {
   "cell_type": "code",
   "execution_count": 22,
   "id": "18410f7a",
   "metadata": {},
   "outputs": [
    {
     "name": "stdout",
     "output_type": "stream",
     "text": [
      "enter the year:2004\n",
      "2004 is leap year\n"
     ]
    }
   ],
   "source": [
    "# python program for check a leap year \n",
    "year=int(input(\"enter the year:\"))\n",
    "if (year%400==0) and ( year % 100==0):\n",
    "         print(year,\"is a leap year\")\n",
    "elif(year%4==0) and (year %100!=0):\n",
    "         print(year,\"is leap year\")\n",
    "else:\n",
    "     print (\"not a leap year\")"
   ]
  },
  {
   "cell_type": "code",
   "execution_count": 35,
   "id": "d73e362e",
   "metadata": {},
   "outputs": [
    {
     "name": "stdout",
     "output_type": "stream",
     "text": [
      "enter the number:6\n",
      "not a prime number\n"
     ]
    }
   ],
   "source": [
    "num=int(input(\"enter the number:\"))\n",
    "for i in range(2,num):\n",
    "    if num % i==0:\n",
    "        print(\"not a prime number\")\n",
    "        break\n",
    "else:\n",
    "    print(\"prime number\")"
   ]
  },
  {
   "cell_type": "code",
   "execution_count": null,
   "id": "339ee206",
   "metadata": {},
   "outputs": [],
   "source": []
  }
 ],
 "metadata": {
  "kernelspec": {
   "display_name": "Python 3 (ipykernel)",
   "language": "python",
   "name": "python3"
  },
  "language_info": {
   "codemirror_mode": {
    "name": "ipython",
    "version": 3
   },
   "file_extension": ".py",
   "mimetype": "text/x-python",
   "name": "python",
   "nbconvert_exporter": "python",
   "pygments_lexer": "ipython3",
   "version": "3.11.5"
  }
 },
 "nbformat": 4,
 "nbformat_minor": 5
}
