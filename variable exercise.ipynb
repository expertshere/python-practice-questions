{
 "cells": [
  {
   "cell_type": "code",
   "execution_count": 3,
   "id": "9a2a73c0",
   "metadata": {},
   "outputs": [
    {
     "name": "stdout",
     "output_type": "stream",
     "text": [
      "she is ayesha and her age is 13\n"
     ]
    }
   ],
   "source": [
    "name=\"ayesha\"\n",
    "age=13\n",
    "print(f\"she is {name} and her age is {age}\")"
   ]
  },
  {
   "cell_type": "code",
   "execution_count": 3,
   "id": "e745521c",
   "metadata": {},
   "outputs": [
    {
     "name": "stdout",
     "output_type": "stream",
     "text": [
      "6\n"
     ]
    }
   ],
   "source": [
    "num1=3\n",
    "num2=3\n",
    "add=(num1+num2)\n",
    "print(add)"
   ]
  },
  {
   "cell_type": "code",
   "execution_count": 21,
   "id": "26c0e4ae",
   "metadata": {},
   "outputs": [
    {
     "name": "stdout",
     "output_type": "stream",
     "text": [
      "36\n"
     ]
    }
   ],
   "source": [
    "quotes=\"my behaviour is always depend on you\"\n",
    "print(len(quotes))\n",
    "\n",
    "\n",
    "    "
   ]
  },
  {
   "cell_type": "code",
   "execution_count": 7,
   "id": "dd1fa714",
   "metadata": {},
   "outputs": [
    {
     "name": "stdout",
     "output_type": "stream",
     "text": [
      "enter your age19\n",
      "you will be 20 next year\n"
     ]
    }
   ],
   "source": [
    "age=int(input(\"enter your age\"))\n",
    "print(f\"you will be {age+1} next year\")"
   ]
  },
  {
   "cell_type": "code",
   "execution_count": 14,
   "id": "bf503313",
   "metadata": {},
   "outputs": [
    {
     "name": "stdout",
     "output_type": "stream",
     "text": [
      "the value of a is 65\n",
      "the value of b is 12\n"
     ]
    }
   ],
   "source": [
    "a=12\n",
    "b=65\n",
    "a,b=b,a\n",
    "print(\"the value of a is\" , a)\n",
    "print(\"the value of b is\",b)"
   ]
  },
  {
   "cell_type": "code",
   "execution_count": 17,
   "id": "9d8ba075",
   "metadata": {},
   "outputs": [
    {
     "name": "stdout",
     "output_type": "stream",
     "text": [
      "learning python is fun\n"
     ]
    }
   ],
   "source": [
    "is_python_fun=True\n",
    "is_learning=True\n",
    "if is_python_fun and is_learning:\n",
    "    print(\"learning python is fun\")\n",
    "else:\n",
    "    print(\"learning python is not fun\")\n",
    "    "
   ]
  },
  {
   "cell_type": "code",
   "execution_count": 2,
   "id": "864b6164",
   "metadata": {},
   "outputs": [
    {
     "name": "stdout",
     "output_type": "stream",
     "text": [
      "10.8\n"
     ]
    }
   ],
   "source": [
    "price=2.7\n",
    "quantity=4\n",
    "total_cost=(price*quantity)\n",
    "print(total_cost)"
   ]
  },
  {
   "cell_type": "code",
   "execution_count": 5,
   "id": "5ee7f5ff",
   "metadata": {},
   "outputs": [
    {
     "name": "stdout",
     "output_type": "stream",
     "text": [
      "allama iqbal\n"
     ]
    }
   ],
   "source": [
    "first_name=\"allama\"\n",
    "last_name=\"iqbal\"\n",
    "full_name=(first_name + \" \" +last_name)\n",
    "print(full_name)"
   ]
  },
  {
   "cell_type": "code",
   "execution_count": 11,
   "id": "6e15554e",
   "metadata": {},
   "outputs": [
    {
     "name": "stdout",
     "output_type": "stream",
     "text": [
      "enter the username:ayesha\n",
      "hello ayesha\n"
     ]
    }
   ],
   "source": [
    "user_input=(input(\"enter the username:\"))\n",
    "print(\"hello\" +\" \" +user_input)\n"
   ]
  },
  {
   "cell_type": "code",
   "execution_count": null,
   "id": "79c98c71",
   "metadata": {},
   "outputs": [],
   "source": []
  }
 ],
 "metadata": {
  "kernelspec": {
   "display_name": "Python 3 (ipykernel)",
   "language": "python",
   "name": "python3"
  },
  "language_info": {
   "codemirror_mode": {
    "name": "ipython",
    "version": 3
   },
   "file_extension": ".py",
   "mimetype": "text/x-python",
   "name": "python",
   "nbconvert_exporter": "python",
   "pygments_lexer": "ipython3",
   "version": "3.11.5"
  }
 },
 "nbformat": 4,
 "nbformat_minor": 5
}
